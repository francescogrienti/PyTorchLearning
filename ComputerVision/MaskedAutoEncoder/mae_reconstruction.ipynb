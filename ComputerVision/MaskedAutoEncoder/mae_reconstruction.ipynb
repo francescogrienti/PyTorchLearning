{
 "cells": [
  {
   "cell_type": "code",
   "id": "initial_id",
   "metadata": {
    "collapsed": true,
    "ExecuteTime": {
     "end_time": "2025-04-07T08:55:47.227371Z",
     "start_time": "2025-04-07T08:55:47.175320Z"
    }
   },
   "source": [
    "import numpy as np\n",
    "import torch\n",
    "import matplotlib.pyplot as plt\n",
    "from torchvision import datasets, transforms"
   ],
   "outputs": [],
   "execution_count": 1
  },
  {
   "metadata": {},
   "cell_type": "code",
   "outputs": [],
   "execution_count": null,
   "source": [
    "device = torch.device(\"cuda\" if torch.cuda.is_available() else \"cpu\")\n",
    "torch.backends.cuda.matmul.allow_tf32 = True\n",
    "torch.backends.cudnn.allow_tf32 = True\n",
    "torch.manual_seed(1337)\n",
    "torch.use_deterministic_algorithms(True)\n",
    "g = torch.Generator()\n",
    "g.manual_seed(0)\n",
    "\n",
    "print(f\"Using device: {device}\", flush=True)\n",
    "transform = transforms.Compose([\n",
    "    transforms.ToTensor(),\n",
    "    transforms.Normalize((0.4914, 0.4822, 0.4465), (0.2470, 0.2435, 0.2616))\n",
    "])\n",
    "test_dataset = datasets.CIFAR10(root='./data', train=False, download=True, transform=transform)"
   ],
   "id": "3f5abe38b4e337bd"
  },
  {
   "metadata": {},
   "cell_type": "code",
   "outputs": [],
   "execution_count": null,
   "source": [
    "# define the utils\n",
    "cifar_mean = np.array([0.4914, 0.4822, 0.4465])\n",
    "cifar_std = np.array([0.2470, 0.2435, 0.2616])\n",
    "\n",
    "def show_image(image, title=''):\n",
    "    # image is [H, W, 3]\n",
    "    assert image.shape[2] == 3\n",
    "    plt.imshow(torch.clip((image * cifar_std + cifar_mean) * 255, 0, 255).int()) #check\n",
    "    plt.title(title, fontsize=16)\n",
    "    plt.axis('off')\n",
    "    return\n",
    "\n",
    "def prepare_model(checkpoint):\n",
    "    # load model\n",
    "    mae = torch.load(checkpoint, map_location='cpu')\n",
    "    return mae\n",
    "\n",
    "def run_one_image(x, model):\n",
    "    # make it a batch-like\n",
    "    x = x.unsqueeze(dim=0)\n",
    "    x = torch.einsum('nhwc->nchw', x)\n",
    "\n",
    "    # run MAE\n",
    "    loss, y, mask = model(x.float(), mask_ratio=0.75)\n",
    "    y = model.unpatchify(y)\n",
    "    y = torch.einsum('nchw->nhwc', y).detach().cpu()\n",
    "\n",
    "    # visualize the mask\n",
    "    mask = mask.detach()\n",
    "    mask = mask.unsqueeze(-1).repeat(1, 1, model.patch_embed.patch_size[0]**2 *3)  # (N, H*W, p*p*3)\n",
    "    mask = model.unpatchify(mask)  # 1 is removing, 0 is keeping\n",
    "    mask = torch.einsum('nchw->nhwc', mask).detach().cpu()\n",
    "\n",
    "    x = torch.einsum('nchw->nhwc', x)\n",
    "\n",
    "    # masked image\n",
    "    im_masked = x * (1 - mask)\n",
    "\n",
    "    # MAE reconstruction pasted with visible patches\n",
    "    im_paste = x * (1 - mask) + y * mask\n",
    "\n",
    "    # make the plt figure larger\n",
    "    plt.rcParams['figure.figsize'] = [24, 24]\n",
    "\n",
    "    plt.subplot(1, 4, 1)\n",
    "    show_image(x[0], \"original\")\n",
    "\n",
    "    plt.subplot(1, 4, 2)\n",
    "    show_image(im_masked[0], \"masked\")\n",
    "\n",
    "    plt.subplot(1, 4, 3)\n",
    "    show_image(y[0], \"reconstruction\")\n",
    "\n",
    "    plt.subplot(1, 4, 4)\n",
    "    show_image(im_paste[0], \"reconstruction + visible\")\n",
    "\n",
    "    plt.show()"
   ],
   "id": "3fed10b0343233ef"
  },
  {
   "metadata": {},
   "cell_type": "code",
   "outputs": [],
   "execution_count": null,
   "source": [
    "# load an image\n",
    "img_1, _ = test_dataset[0]  # Get the first test image\n",
    "img_1 = img_1.unsqueeze(0).to(device)  # Add batch dimension\n",
    "\n",
    "plt.rcParams['figure.figsize'] = [5, 5]\n",
    "show_image(torch.tensor(img_1))"
   ],
   "id": "b040dea9cf99dea2"
  },
  {
   "metadata": {},
   "cell_type": "code",
   "outputs": [],
   "execution_count": null,
   "source": [
    "checkpoint = 'checkpoint.pth'\n",
    "model_mae = prepare_model(checkpoint)\n",
    "print('Model loaded.')"
   ],
   "id": "b40811b435ae321f"
  },
  {
   "metadata": {},
   "cell_type": "code",
   "outputs": [],
   "execution_count": null,
   "source": [
    "# make random mask reproducible (comment out to make it change)\n",
    "print('MAE with pixel reconstruction:')\n",
    "run_one_image(img_1, model_mae)"
   ],
   "id": "ceff168bf3cafb81"
  },
  {
   "metadata": {},
   "cell_type": "code",
   "outputs": [],
   "execution_count": null,
   "source": [
    "print('MAE with pixel reconstruction:')\n",
    "img_2, _ = test_dataset[1]  # Get the first test image\n",
    "img_1 = img_1.unsqueeze(0).to(device)  # Add batch dimension\n",
    "run_one_image(img_2, model_mae)"
   ],
   "id": "92182210843eef29"
  },
  {
   "metadata": {},
   "cell_type": "code",
   "outputs": [],
   "execution_count": null,
   "source": [
    "print('MAE with pixel reconstruction:')\n",
    "img_3, _ = test_dataset[2]  # Get the first test image\n",
    "img_3 = img_3.unsqueeze(0).to(device)  # Add batch dimension\n",
    "run_one_image(img_3, model_mae)"
   ],
   "id": "74aa5af8c62ba1af"
  },
  {
   "metadata": {},
   "cell_type": "code",
   "outputs": [],
   "execution_count": null,
   "source": [
    "print('MAE with pixel reconstruction:')\n",
    "img_4, _ = test_dataset[3]  # Get the first test image\n",
    "img_4 = img_4.unsqueeze(0).to(device)  # Add batch dimension\n",
    "run_one_image(img_4, model_mae)"
   ],
   "id": "be41a91dc3bf430"
  }
 ],
 "metadata": {
  "kernelspec": {
   "display_name": "Python 3",
   "language": "python",
   "name": "python3"
  },
  "language_info": {
   "codemirror_mode": {
    "name": "ipython",
    "version": 2
   },
   "file_extension": ".py",
   "mimetype": "text/x-python",
   "name": "python",
   "nbconvert_exporter": "python",
   "pygments_lexer": "ipython2",
   "version": "2.7.6"
  }
 },
 "nbformat": 4,
 "nbformat_minor": 5
}
