{
 "cells": [
  {
   "cell_type": "code",
   "execution_count": 1,
   "id": "initial_id",
   "metadata": {
    "ExecuteTime": {
     "end_time": "2025-04-07T08:55:47.227371Z",
     "start_time": "2025-04-07T08:55:47.175320Z"
    }
   },
   "outputs": [
    {
     "name": "stdout",
     "output_type": "stream",
     "text": [
      "Using device: cpu\n",
      "Files already downloaded and verified\n",
      "Files already downloaded and verified\n"
     ]
    }
   ],
   "source": [
    "import numpy as np\n",
    "import torch\n",
    "import matplotlib.pyplot as plt\n",
    "from torchvision import datasets, transforms\n",
    "from ComputerVision.MaskedAutoEncoder.trainer.train_mae_v1 import MaskedAutoEncoder"
   ]
  },
  {
   "cell_type": "code",
   "execution_count": 2,
   "id": "3f5abe38b4e337bd",
   "metadata": {},
   "outputs": [
    {
     "name": "stdout",
     "output_type": "stream",
     "text": [
      "Using device: cpu\n",
      "Files already downloaded and verified\n"
     ]
    }
   ],
   "source": [
    "device = torch.device(\"cuda\" if torch.cuda.is_available() else \"cpu\")\n",
    "torch.backends.cuda.matmul.allow_tf32 = True\n",
    "torch.backends.cudnn.allow_tf32 = True\n",
    "torch.manual_seed(1337)\n",
    "torch.use_deterministic_algorithms(True)\n",
    "g = torch.Generator()\n",
    "g.manual_seed(0)\n",
    "print(f\"Using device: {device}\", flush=True)\n",
    "transform = transforms.Compose([\n",
    "    transforms.ToTensor(),\n",
    "    transforms.Normalize((0.4914, 0.4822, 0.4465), (0.2470, 0.2435, 0.2616))\n",
    "])\n",
    "test_dataset = datasets.CIFAR10(root='./data', train=False, download=True, transform=transform)"
   ]
  },
  {
   "cell_type": "code",
   "execution_count": 11,
   "id": "3fed10b0343233ef",
   "metadata": {},
   "outputs": [],
   "source": [
    "# define the utils\n",
    "cifar_mean = np.array([0.4914, 0.4822, 0.4465])\n",
    "cifar_std = np.array([0.2470, 0.2435, 0.2616])\n",
    "\n",
    "def show(img, ax=None, title=None):\n",
    "    \"\"\"Utility function to display an image\"\"\"\n",
    "    if ax is None:\n",
    "        ax = plt.gca()\n",
    "    img = img.cpu().detach().numpy()\n",
    "    if img.shape[0] == 1:  # Grayscale image\n",
    "        img = img[0]\n",
    "        ax.imshow(img, cmap='gray')\n",
    "    elif img.shape[-1] == 3:  # Already HWC\n",
    "        img = img * cifar_std + cifar_mean\n",
    "        img = np.clip(img, 0, 1)\n",
    "        ax.imshow(img)\n",
    "    else:  # CHW\n",
    "        img = img.transpose((1, 2, 0))  # Convert to HWC\n",
    "        img = img * cifar_std + cifar_mean\n",
    "        img = np.clip(img, 0, 1)\n",
    "        ax.imshow(img)\n",
    "    if title is not None:\n",
    "        ax.set_title(title)\n",
    "    ax.axis('off')\n",
    "\n",
    "def prepare_model(checkpoint):\n",
    "    mae_model = MaskedAutoEncoder(\n",
    "        embed_size=128,\n",
    "        decoder_embed_size=64, num_patches=256,\n",
    "        forward_expansion=256, dropout=0.1, num_attention_heads=8,\n",
    "        qvk_bias=True, dataset=test_dataset, patch_size=2,\n",
    "        encod_hidden_layers=8, decod_hidden_layers=4,\n",
    "        num_channels=3\n",
    "    )\n",
    "    # load model\n",
    "    checkpoint = torch.load(checkpoint, map_location='cpu')\n",
    "    mae_model.load_state_dict(checkpoint['model_state_dict'])\n",
    "    mae_model.eval()\n",
    "    return mae_model\n",
    "\n",
    "def run_one_image(x, model):\n",
    "    # make it a batch-like\n",
    "    x = x.unsqueeze(dim=0)\n",
    "    #x = torch.einsum('nhwc->nchw', x)\n",
    "\n",
    "    # run MAE\n",
    "    loss, y, mask = model(x.float(), mask_ratio=0.75)\n",
    "    y = model.unpatchify(y)\n",
    "    y = torch.einsum('nchw->nhwc', y).detach().cpu()\n",
    "\n",
    "    # visualize the mask\n",
    "    mask = mask.detach()\n",
    "    mask = mask.unsqueeze(-1).repeat(1, 1, model.patch_size**2 *3)  # (N, H*W, p*p*3)\n",
    "    mask = model.unpatchify(mask)  # 1 is removing, 0 is keeping\n",
    "    mask = torch.einsum('nchw->nhwc', mask).detach().cpu()\n",
    "\n",
    "    x = torch.einsum('nchw->nhwc', x)\n",
    "\n",
    "    # masked image\n",
    "    im_masked = x * (1 - mask)\n",
    "\n",
    "    # MAE reconstruction pasted with visible patches\n",
    "    im_paste = x * (1 - mask) + y * mask\n",
    "\n",
    "    # make the plt figure larger\n",
    "    plt.rcParams['figure.figsize'] = [24, 24]\n",
    "\n",
    "    plt.subplot(1, 4, 1)\n",
    "    show(x[0], title=\"original\")\n",
    "\n",
    "    plt.subplot(1, 4, 2)\n",
    "    show(im_masked[0],title= \"masked\")\n",
    "\n",
    "    plt.subplot(1, 4, 3)\n",
    "    show(y[0], title=\"reconstruction\")\n",
    "\n",
    "    plt.subplot(1, 4, 4)\n",
    "    show(im_paste[0],title= \"reconstruction + visible\")\n",
    "\n",
    "    plt.show()"
   ]
  },
  {
   "cell_type": "code",
   "execution_count": 15,
   "id": "b040dea9cf99dea2",
   "metadata": {},
   "outputs": [
    {
     "name": "stderr",
     "output_type": "stream",
     "text": [
      "Clipping input data to the valid range for imshow with RGB data ([0..1] for floats or [0..255] for integers). Got range [-1.1589322..1.9320949].\n"
     ]
    },
    {
     "data": {
      "image/png": "[encoded data removed]",
      "text/plain": [
       "<Figure size 500x500 with 1 Axes>"
      ]
     },
     "metadata": {},
     "output_type": "display_data"
    }
   ],
   "source": [
    "# load an image\n",
    "img_1, _ = test_dataset[np.random.randint(len(test_dataset))]  # Get the first test image\n",
    "\n",
    "plt.rcParams['figure.figsize'] = [5, 5]\n",
    "show(img_1)"
   ]
  },
  {
   "cell_type": "code",
   "execution_count": null,
   "id": "b40811b435ae321f",
   "metadata": {},
   "outputs": [],
   "source": [
    "checkpoint = 'checkpoint.pth'\n",
    "model_mae = prepare_model(checkpoint)\n",
    "print('Model loaded.')"
   ]
  },
  {
   "cell_type": "code",
   "execution_count": null,
   "id": "ceff168bf3cafb81",
   "metadata": {},
   "outputs": [],
   "source": [
    "# make random mask reproducible (comment out to make it change)\n",
    "print('MAE with pixel reconstruction:')\n",
    "run_one_image(img_1, model_mae)"
   ]
  },
  {
   "cell_type": "code",
   "execution_count": null,
   "id": "92182210843eef29",
   "metadata": {},
   "outputs": [],
   "source": [
    "print('MAE with pixel reconstruction:')\n",
    "img_2, _ = test_dataset[1]  # Get the first test image\n",
    "img_1 = img_1.unsqueeze(0).to(device)  # Add batch dimension\n",
    "run_one_image(img_2, model_mae)"
   ]
  },
  {
   "cell_type": "code",
   "execution_count": null,
   "id": "74aa5af8c62ba1af",
   "metadata": {},
   "outputs": [],
   "source": [
    "print('MAE with pixel reconstruction:')\n",
    "img_3, _ = test_dataset[2]  # Get the first test image\n",
    "img_3 = img_3.unsqueeze(0).to(device)  # Add batch dimension\n",
    "run_one_image(img_3, model_mae)"
   ]
  },
  {
   "cell_type": "code",
   "execution_count": null,
   "id": "be41a91dc3bf430",
   "metadata": {},
   "outputs": [],
   "source": [
    "print('MAE with pixel reconstruction:')\n",
    "img_4, _ = test_dataset[3]  # Get the first test image\n",
    "img_4 = img_4.unsqueeze(0).to(device)  # Add batch dimension\n",
    "run_one_image(img_4, model_mae)"
   ]
  }
 ],
 "metadata": {
  "kernelspec": {
   "display_name": "Python 3 (ipykernel)",
   "language": "python",
   "name": "python3"
  },
  "language_info": {
   "codemirror_mode": {
    "name": "ipython",
    "version": 3
   },
   "file_extension": ".py",
   "mimetype": "text/x-python",
   "name": "python",
   "nbconvert_exporter": "python",
   "pygments_lexer": "ipython3",
   "version": "3.9.6"
  }
 },
 "nbformat": 4,
 "nbformat_minor": 5
}
